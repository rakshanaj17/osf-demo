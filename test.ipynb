{
 "cells": [
  {
   "cell_type": "code",
   "execution_count": 1,
   "metadata": {},
   "outputs": [],
   "source": [
    "da = ['--- \\n', '+++ \\n', '@@ -161,6 +161,7 @@\\n', ' n', ' c', ' y', '+,', ' ”', '  ', ' p', '@@ -841,80 +842,6 @@\\n', ' e', ' d', '  ', '-\\n', '- ', '- ', '- ', '- ', '- ', '- ', '- ', '- ', '- ', '- ', '- ', '- ', '- ', '- ', '- ', '- ', '- ', '- ', '- ', '- ', '- ', '- ', '- ', '- ', '-S', '-t', '-a', '-r', '-t', '- ', '-P', '-r', '-i', '-n', '-t', '-e', '-d', '- ', '-P', '-a', '-g', '-e', '- ', '-4', '-4', '-6', '-8', '-0', '-\\n', '- ', '- ', '- ', '- ', '- ', '- ', '- ', '- ', '- ', '- ', '- ', '- ', '- ', '- ', '- ', '- ', '- ', '- ', '- ', '- ', '- ', '- ', '- ', '- ', ' t', ' h', ' r', '@@ -1134,6 +1061,80 @@\\n', ' C', ' Y', '  ', '+\\n', '+ ', '+ ', '+ ', '+ ', '+ ', '+ ', '+ ', '+ ', '+ ', '+ ', '+ ', '+ ', '+ ', '+ ', '+ ', '+ ', '+ ', '+ ', '+ ', '+ ', '+ ', '+ ', '+ ', '+ ', '+S', '+t', '+a', '+r', '+t', '+ ', '+P', '+r', '+i', '+n', '+t', '+e', '+d', '+ ', '+P', '+a', '+g', '+e', '+ ', '+7', '+2', '+0', '+2', '+0', '+\\n', '+ ', '+ ', '+ ', '+ ', '+ ', '+ ', '+ ', '+ ', '+ ', '+ ', '+ ', '+ ', '+ ', '+ ', '+ ', '+ ', '+ ', '+ ', '+ ', '+ ', '+ ', '+ ', '+ ', '+ ', ' 2', ' 0', ' 2', '@@ -3046,6 +3047,7 @@\\n']"
   ]
  },
  {
   "cell_type": "code",
   "execution_count": 4,
   "metadata": {},
   "outputs": [
    {
     "name": "stdout",
     "output_type": "stream",
     "text": [
      "['161', '6'] ['161', '7']\n",
      "['841', '80'] ['842', '6']\n",
      "['1134', '6'] ['1061', '80']\n",
      "['3046', '6'] ['3047', '7']\n"
     ]
    }
   ],
   "source": [
    "for i in range(len(da)):\n",
    "    if da[i].startswith('@'):\n",
    "        x = da[i].split(' ')\n",
    "        sub = x[1][1:].split(',')\n",
    "        add = x[-2][1:].split(',')\n",
    "        print(sub,add)\n",
    "        \n"
   ]
  },
  {
   "cell_type": "code",
   "execution_count": null,
   "metadata": {},
   "outputs": [],
   "source": []
  }
 ],
 "metadata": {
  "kernelspec": {
   "display_name": "Python 3",
   "language": "python",
   "name": "python3"
  },
  "language_info": {
   "codemirror_mode": {
    "name": "ipython",
    "version": 3
   },
   "file_extension": ".py",
   "mimetype": "text/x-python",
   "name": "python",
   "nbconvert_exporter": "python",
   "pygments_lexer": "ipython3",
   "version": "3.10.10"
  },
  "orig_nbformat": 4
 },
 "nbformat": 4,
 "nbformat_minor": 2
}
